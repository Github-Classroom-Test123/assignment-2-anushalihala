{
 "cells": [
  {
   "cell_type": "markdown",
   "metadata": {},
   "source": [
    "<!-- Place this code where you'd like the game to appear -->\n",
    "<div class=\"miniclip-game-embed\" data-game-name=\"slime-pizza\" data-theme=\"5\" data-width=\"480\" data-height=\"640\" data-language=\"en\"><a href=\"https://www.miniclip.com/games/slime-pizza/\">Play Slime Pizza</a></div>\n",
    "<p style=\"text-align:center;\">\n",
    "    <a href=\"https://www.miniclip.com/games/slime-pizza/\" target=\"_blank\">Play Slime Pizza</a> -\n",
    "    <a href=\"https://www.miniclip.com/games/genre-40/\" target=\"_blank\">More Platform games</a> -\n",
    "    <a href=\"https://www.miniclip.com/terms\" target=\"_blank\">Terms and Conditions</a> -\n",
    "    <a href=\"https://www.miniclip.com/privacy\" target=\"_blank\">Privacy Policy</a>\n",
    "</p>\n",
    "\n",
    "<!-- Insert this code before your </body> tag -->\n"
   ]
  },
  {
   "cell_type": "raw",
   "metadata": {},
   "source": [
    "<html>\n",
    "<head>\n",
    "<style>\n",
    "p {\n",
    "    text-align: center;\n",
    "    color: red;\n",
    "} \n",
    "</style>\n",
    "</head>\n",
    "<body>\n",
    "\n",
    "<p>Every paragraph will be affected by the style.</p>\n",
    "<p id=\"para1\">Me too!</p>\n",
    "<p>And me!</p>\n",
    "\n",
    "</body>\n",
    "</html>"
   ]
  },
  {
   "cell_type": "code",
   "execution_count": 6,
   "metadata": {},
   "outputs": [
    {
     "data": {
      "text/html": [
       "<video width=\"320\" height=\"240\" controls>\n",
       "  <source src=\"anniversary2new.mp4\" type=\"video/mp4\">\n",
       "</video>"
      ],
      "text/plain": [
       "<IPython.core.display.HTML object>"
      ]
     },
     "metadata": {},
     "output_type": "display_data"
    }
   ],
   "source": [
    "%%HTML\n",
    "<video width=\"320\" height=\"240\" controls>\n",
    "  <source src=\"anniversary2new.mp4\" type=\"video/mp4\">\n",
    "</video>"
   ]
  },
  {
   "cell_type": "code",
   "execution_count": 7,
   "metadata": {},
   "outputs": [
    {
     "data": {
      "text/html": [
       "\n",
       "<head>\n",
       "<style>\n",
       "p {\n",
       "    text-align: center;\n",
       "    color: red;\n",
       "} \n",
       "</style>\n",
       "</head>\n",
       "<body>\n",
       "\n",
       "<p>Every paragraph will be affected by the style.</p>\n",
       "<p id=\"para1\">Me too!</p>\n",
       "<p>And me!</p>\n",
       "\n",
       "</body>"
      ],
      "text/plain": [
       "<IPython.core.display.HTML object>"
      ]
     },
     "metadata": {},
     "output_type": "display_data"
    }
   ],
   "source": [
    "%%HTML\n",
    "\n",
    "<head>\n",
    "<style>\n",
    "p {\n",
    "    text-align: center;\n",
    "    color: red;\n",
    "} \n",
    "</style>\n",
    "</head>\n",
    "<body>\n",
    "\n",
    "<p>Every paragraph will be affected by the style.</p>\n",
    "<p id=\"para1\">Me too!</p>\n",
    "<p>And me!</p>\n",
    "\n",
    "</body>\n"
   ]
  },
  {
   "cell_type": "code",
   "execution_count": 15,
   "metadata": {},
   "outputs": [
    {
     "data": {
      "text/html": [
       "<html>\n",
       "<head>\n",
       "<div class=\"miniclip-game-embed\" data-game-name=\"slime-pizza\" data-theme=\"5\" data-width=\"480\" data-height=\"640\" data-language=\"en\"><a href=\"https://www.miniclip.com/games/slime-pizza/\">Play Slime Pizza</a></div>\n",
       "<p style=\"text-align:center;\">\n",
       "    <a href=\"https://www.miniclip.com/games/slime-pizza/\" target=\"_blank\">Play Slime Pizza</a> -\n",
       "    <a href=\"https://www.miniclip.com/games/genre-40/\" target=\"_blank\">More Platform games</a> -\n",
       "    <a href=\"https://www.miniclip.com/terms\" target=\"_blank\">Terms and Conditions</a> -\n",
       "    <a href=\"https://www.miniclip.com/privacy\" target=\"_blank\">Privacy Policy</a>\n",
       "</p>\n",
       "</head>\n",
       "<body>Hello</body>\n",
       "</html>"
      ],
      "text/plain": [
       "<IPython.core.display.HTML object>"
      ]
     },
     "metadata": {},
     "output_type": "display_data"
    }
   ],
   "source": [
    "%%HTML\n",
    "<html>\n",
    "<head>\n",
    "<div class=\"miniclip-game-embed\" data-game-name=\"slime-pizza\" data-theme=\"5\" data-width=\"480\" data-height=\"640\" data-language=\"en\"><a href=\"https://www.miniclip.com/games/slime-pizza/\">Play Slime Pizza</a></div>\n",
    "<p style=\"text-align:center;\">\n",
    "    <a href=\"https://www.miniclip.com/games/slime-pizza/\" target=\"_blank\">Play Slime Pizza</a> -\n",
    "    <a href=\"https://www.miniclip.com/games/genre-40/\" target=\"_blank\">More Platform games</a> -\n",
    "    <a href=\"https://www.miniclip.com/terms\" target=\"_blank\">Terms and Conditions</a> -\n",
    "    <a href=\"https://www.miniclip.com/privacy\" target=\"_blank\">Privacy Policy</a>\n",
    "</p>\n",
    "</head>\n",
    "<body>Hello</body>\n",
    "</html>"
   ]
  },
  {
   "cell_type": "code",
   "execution_count": 14,
   "metadata": {},
   "outputs": [
    {
     "data": {
      "text/html": [
       "\n",
       "<script src=\"https://cdn.htmlgames.com/embed.js?game=FishingTrip&amp;width=800&amp;height=480&amp;bgcolor=white\"></script>"
      ],
      "text/plain": [
       "<IPython.core.display.HTML object>"
      ]
     },
     "metadata": {},
     "output_type": "display_data"
    }
   ],
   "source": [
    "%%HTML\n",
    "\n",
    "<script src=\"https://cdn.htmlgames.com/embed.js?game=FishingTrip&amp;width=800&amp;height=480&amp;bgcolor=white\"></script>"
   ]
  },
  {
   "cell_type": "code",
   "execution_count": 9,
   "metadata": {
    "scrolled": true
   },
   "outputs": [
    {
     "data": {
      "text/html": [
       "\n",
       "<embed width=\"550\" height=\"400\" base=\"https://external.kongregate-games.com/gamez/0000/6057/live/\" src=\"https://external.kongregate-games.com/gamez/0000/6057/live/embeddable_6057.swf\" type=\"application/x-shockwave-flash\"></embed><br/>Play free games at <a href=\"https://www.kongregate.com/\">Kongregate</a>"
      ],
      "text/plain": [
       "<IPython.core.display.HTML object>"
      ]
     },
     "metadata": {},
     "output_type": "display_data"
    }
   ],
   "source": [
    "%%HTML\n",
    "\n",
    "<embed width=\"550\" height=\"400\" base=\"https://external.kongregate-games.com/gamez/0000/6057/live/\" src=\"https://external.kongregate-games.com/gamez/0000/6057/live/embeddable_6057.swf\" type=\"application/x-shockwave-flash\"></embed><br/>Play free games at <a href=\"https://www.kongregate.com/\">Kongregate</a>"
   ]
  },
  {
   "cell_type": "code",
   "execution_count": 17,
   "metadata": {},
   "outputs": [
    {
     "data": {
      "text/html": [
       "<!-- Hey Webmaster! Place this html code where you'd like the game to appear. -->\n",
       "<iframe src=\"http://www.silvergames.com/en/bomb-it-mission/iframe\" width=\"800\" height=\"640\" style=\"margin:0;padding:0;border:0\"></iframe>\n",
       "<p style=\"text-align:center\"></p>\n",
       "<!-- End of game embed code -->\n",
       "    "
      ],
      "text/plain": [
       "<IPython.core.display.HTML object>"
      ]
     },
     "metadata": {},
     "output_type": "display_data"
    }
   ],
   "source": [
    "%%HTML\n",
    "<!-- Hey Webmaster! Place this html code where you'd like the game to appear. -->\n",
    "<iframe src=\"http://www.silvergames.com/en/bomb-it-mission/iframe\" width=\"800\" height=\"640\" style=\"margin:0;padding:0;border:0\"></iframe>\n",
    "<p style=\"text-align:center\"></p>\n",
    "<!-- End of game embed code -->\n",
    "    "
   ]
  },
  {
   "cell_type": "code",
   "execution_count": 20,
   "metadata": {},
   "outputs": [
    {
     "data": {
      "text/html": [
       "\n",
       "<!-- Hey Webmaster! Place this html code where you'd like the game to appear. -->\n",
       "<iframe src=\"https://www.silvergames.com/en/bomb-it/iframe\" width=\"1050\" height=\"600\" style=\"margin:0;padding:0;border:0\"></iframe>\n",
       "<p style=\"text-align:center\"></p>\n",
       "<!-- End of game embed code -->\n",
       "    "
      ],
      "text/plain": [
       "<IPython.core.display.HTML object>"
      ]
     },
     "metadata": {},
     "output_type": "display_data"
    }
   ],
   "source": [
    "%%HTML\n",
    "\n",
    "<!-- Hey Webmaster! Place this html code where you'd like the game to appear. -->\n",
    "<iframe src=\"https://www.silvergames.com/en/bomb-it/iframe\" width=\"1050\" height=\"600\" style=\"margin:0;padding:0;border:0\"></iframe>\n",
    "<p style=\"text-align:center\"></p>\n",
    "<!-- End of game embed code -->\n",
    "    "
   ]
  },
  {
   "cell_type": "code",
   "execution_count": null,
   "metadata": {},
   "outputs": [],
   "source": []
  }
 ],
 "metadata": {
  "kernelspec": {
   "display_name": "Python 3",
   "language": "python",
   "name": "python3"
  },
  "language_info": {
   "codemirror_mode": {
    "name": "ipython",
    "version": 3
   },
   "file_extension": ".py",
   "mimetype": "text/x-python",
   "name": "python",
   "nbconvert_exporter": "python",
   "pygments_lexer": "ipython3",
   "version": "3.6.4"
  }
 },
 "nbformat": 4,
 "nbformat_minor": 2
}
